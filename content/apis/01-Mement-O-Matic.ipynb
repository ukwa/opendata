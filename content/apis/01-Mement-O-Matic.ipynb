{
 "cells": [
  {
   "cell_type": "markdown",
   "metadata": {},
   "source": [
    "Mement-O-Matic: Memento Aggregator Client\n",
    "=====================================\n",
    "\n",
    "This Jupyter Notebook can be used to query Memento Aggregator services and analyse the results.\n",
    "\n",
    "See also\n",
    "\n",
    "* [MemGator](https://github.com/oduwsdl/memgator)\n",
    "* [Time Travel @ MementoWeb](http://timetravel.mementoweb.org/)\n",
    "* [Time Travel APIs](http://timetravel.mementoweb.org/guide/api/)\n"
   ]
  },
  {
   "cell_type": "code",
   "execution_count": 22,
   "metadata": {},
   "outputs": [
    {
     "data": {
      "application/vnd.jupyter.widget-view+json": {
       "model_id": "fac6d85f242347dfbd17c016643f140a",
       "version_major": 2,
       "version_minor": 0
      },
      "text/plain": [
       "interactive(children=(Text(value='http://example.net/', description='URL:', layout=Layout(width='80%'), placeh…"
      ]
     },
     "metadata": {},
     "output_type": "display_data"
    },
    {
     "data": {
      "application/vnd.jupyter.widget-view+json": {
       "model_id": "fa56cc8fa78b4f17be096fa62e9b09fb",
       "version_major": 2,
       "version_minor": 0
      },
      "text/plain": [
       "Output()"
      ]
     },
     "metadata": {},
     "output_type": "display_data"
    }
   ],
   "source": [
    "from ipywidgets import interact_manual, interact\n",
    "from IPython.display import display, HTML\n",
    "import ipywidgets as widgets\n",
    "import requests\n",
    "import json\n",
    "\n",
    "#This is where the results go...\n",
    "console = widgets.Output()\n",
    "\n",
    "def lookup_cdx(url, cdx_service):\n",
    "    with console:\n",
    "        console.clear_output()\n",
    "        display(HTML(\"Looking up %s...\" % url))\n",
    "        #r = requests.get(cdx_service, params = { 'url' : url, 'limit': 10, 'sort': 'reverse'} )\n",
    "        #r = requests.get(\"https://www.webarchive.org.uk/wayback/archive/timemap/json/%s\" % url)\n",
    "        r = requests.get(\"%s%s\" % (cdx_service,url) )\n",
    "        display(HTML(\"Parsing...\"))\n",
    "        ms = json.loads(r.text)\n",
    "        display(HTML(\"Found %s mementos.\" % len(ms['mementos']['list'])))\n",
    "        display(HTML(\"DONE\"))\n",
    "\n",
    "\n",
    "# Set up the interactive UI elements:\n",
    "manual_interact = interact.options(manual=True, manual_name=\"Look up URL\") # Rename the button\n",
    "manual_interact(\n",
    "    lookup_cdx,\n",
    "         url = widgets.Text(\n",
    "            placeholder='http://example.net/',\n",
    "            value='http://example.net/',\n",
    "            description='URL:',\n",
    "            disabled=False,\n",
    "            layout=widgets.Layout(width='80%')\n",
    "         ),\n",
    "         cdx_service = widgets.Dropdown(\n",
    "             options=[\n",
    "                 ('MemGator (memgator.cs.udo.edu) [RECOMMENDED]', 'https://memgator.cs.odu.edu/timemap/json/'),\n",
    "                 ('MementoWeb (timetravel.mementoweb.org)', 'https://timetravel.mementoweb.org/api/json/')\n",
    "             ],\n",
    "             description=\"Memento Aggregator Service:\",\n",
    "             layout=widgets.Layout(width='80%')\n",
    "         )\n",
    ");\n",
    "\n",
    "display(console)"
   ]
  },
  {
   "cell_type": "code",
   "execution_count": null,
   "metadata": {},
   "outputs": [],
   "source": []
  }
 ],
 "metadata": {
  "kernelspec": {
   "display_name": "Python 3",
   "language": "python",
   "name": "python3"
  },
  "language_info": {
   "codemirror_mode": {
    "name": "ipython",
    "version": 3
   },
   "file_extension": ".py",
   "mimetype": "text/x-python",
   "name": "python",
   "nbconvert_exporter": "python",
   "pygments_lexer": "ipython3",
   "version": "3.6.7"
  }
 },
 "nbformat": 4,
 "nbformat_minor": 2
}
